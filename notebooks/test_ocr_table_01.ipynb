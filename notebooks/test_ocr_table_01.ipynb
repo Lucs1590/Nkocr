{
 "cells": [
  {
   "cell_type": "markdown",
   "metadata": {},
   "source": [
    "## Install dependencies"
   ]
  },
  {
   "cell_type": "code",
   "execution_count": null,
   "metadata": {},
   "outputs": [],
   "source": [
    "!apt install tesseract-ocr-spa libtesseract-dev\n",
    "!pip install nkocr --user\n",
    "!mkdir -p /usr/local/lib/python3.8/site-packages/nkocr-model"
   ]
  },
  {
   "cell_type": "markdown",
   "metadata": {},
   "source": [
    "## Imports"
   ]
  },
  {
   "cell_type": "code",
   "execution_count": null,
   "metadata": {},
   "outputs": [],
   "source": [
    "from os import sys\n",
    "sys.path.append('/usr/local/lib/python3.8/site-packages')\n",
    "from nkocr import OcrTable\n",
    "from IPython.display import Image, display"
   ]
  },
  {
   "cell_type": "markdown",
   "metadata": {},
   "source": [
    "## Example"
   ]
  },
  {
   "cell_type": "code",
   "execution_count": null,
   "metadata": {},
   "outputs": [],
   "source": [
    "img_url = 'https://upload.wikimedia.org/wikipedia/commons/e/e9/FDA_Nutrition_Facts_Label_2016.png'\n",
    "display(Image(img_url, width=200))\n",
    "text = OcrTable(img_url)\n",
    "print(text) # or print(text.text)\n",
    "print()\n",
    "print(text.text) # or print(text.text)"
   ]
  }
 ],
 "metadata": {
  "language_info": {
   "name": "python"
  },
  "orig_nbformat": 4
 },
 "nbformat": 4,
 "nbformat_minor": 2
}

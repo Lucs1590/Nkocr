{
  "nbformat": 4,
  "nbformat_minor": 0,
  "metadata": {
    "colab": {
      "provenance": []
    },
    "kernelspec": {
      "name": "python3",
      "display_name": "Python 3"
    },
    "language_info": {
      "name": "python"
    }
  },
  "cells": [
    {
      "cell_type": "code",
      "execution_count": 8,
      "metadata": {
        "colab": {
          "base_uri": "https://localhost:8080/"
        },
        "id": "F2NoawQdIBTv",
        "outputId": "a1765c1c-b239-43b9-ddad-8be0848c0e89"
      },
      "outputs": [
        {
          "output_type": "stream",
          "name": "stdout",
          "text": [
            "Reading package lists... Done\n",
            "Building dependency tree       \n",
            "Reading state information... Done\n",
            "The following package was automatically installed and is no longer required:\n",
            "  libnvidia-common-460\n",
            "Use 'apt autoremove' to remove it.\n",
            "The following additional packages will be installed:\n",
            "  libleptonica-dev tesseract-ocr-eng tesseract-ocr-osd\n",
            "The following NEW packages will be installed:\n",
            "  libleptonica-dev libtesseract-dev tesseract-ocr tesseract-ocr-eng\n",
            "  tesseract-ocr-osd\n",
            "0 upgraded, 5 newly installed, 0 to remove and 20 not upgraded.\n",
            "Need to get 7,550 kB of archives.\n",
            "After this operation, 29.6 MB of additional disk space will be used.\n",
            "Get:1 http://archive.ubuntu.com/ubuntu bionic/universe amd64 libleptonica-dev amd64 1.75.3-3 [1,308 kB]\n",
            "Get:2 http://archive.ubuntu.com/ubuntu bionic/universe amd64 libtesseract-dev amd64 4.00~git2288-10f4998a-2 [1,447 kB]\n",
            "Get:3 http://archive.ubuntu.com/ubuntu bionic/universe amd64 tesseract-ocr-eng all 4.00~git24-0e00fe6-1.2 [1,588 kB]\n",
            "Get:4 http://archive.ubuntu.com/ubuntu bionic/universe amd64 tesseract-ocr-osd all 4.00~git24-0e00fe6-1.2 [2,989 kB]\n",
            "Get:5 http://archive.ubuntu.com/ubuntu bionic/universe amd64 tesseract-ocr amd64 4.00~git2288-10f4998a-2 [218 kB]\n",
            "Fetched 7,550 kB in 2s (4,952 kB/s)\n",
            "Selecting previously unselected package libleptonica-dev.\n",
            "(Reading database ... 124016 files and directories currently installed.)\n",
            "Preparing to unpack .../libleptonica-dev_1.75.3-3_amd64.deb ...\n",
            "Unpacking libleptonica-dev (1.75.3-3) ...\n",
            "Selecting previously unselected package libtesseract-dev.\n",
            "Preparing to unpack .../libtesseract-dev_4.00~git2288-10f4998a-2_amd64.deb ...\n",
            "Unpacking libtesseract-dev (4.00~git2288-10f4998a-2) ...\n",
            "Selecting previously unselected package tesseract-ocr-eng.\n",
            "Preparing to unpack .../tesseract-ocr-eng_4.00~git24-0e00fe6-1.2_all.deb ...\n",
            "Unpacking tesseract-ocr-eng (4.00~git24-0e00fe6-1.2) ...\n",
            "Selecting previously unselected package tesseract-ocr-osd.\n",
            "Preparing to unpack .../tesseract-ocr-osd_4.00~git24-0e00fe6-1.2_all.deb ...\n",
            "Unpacking tesseract-ocr-osd (4.00~git24-0e00fe6-1.2) ...\n",
            "Selecting previously unselected package tesseract-ocr.\n",
            "Preparing to unpack .../tesseract-ocr_4.00~git2288-10f4998a-2_amd64.deb ...\n",
            "Unpacking tesseract-ocr (4.00~git2288-10f4998a-2) ...\n",
            "Setting up libleptonica-dev (1.75.3-3) ...\n",
            "Setting up tesseract-ocr-osd (4.00~git24-0e00fe6-1.2) ...\n",
            "Setting up tesseract-ocr-eng (4.00~git24-0e00fe6-1.2) ...\n",
            "Setting up libtesseract-dev (4.00~git2288-10f4998a-2) ...\n",
            "Setting up tesseract-ocr (4.00~git2288-10f4998a-2) ...\n",
            "Processing triggers for man-db (2.8.3-2ubuntu0.1) ...\n",
            "Looking in indexes: https://pypi.org/simple, https://us-python.pkg.dev/colab-wheels/public/simple/\n",
            "Requirement already satisfied: nkocr in /usr/local/lib/python3.8/dist-packages (2.2.0)\n",
            "Requirement already satisfied: opencv-contrib-python>=4.* in /usr/local/lib/python3.8/dist-packages (from nkocr) (4.6.0.66)\n",
            "Requirement already satisfied: scikit-learn==1.1.2 in /usr/local/lib/python3.8/dist-packages (from nkocr) (1.1.2)\n",
            "Requirement already satisfied: symspellpy==6.7.6 in /usr/local/lib/python3.8/dist-packages (from nkocr) (6.7.6)\n",
            "Requirement already satisfied: imutils==0.5.4 in /usr/local/lib/python3.8/dist-packages (from nkocr) (0.5.4)\n",
            "Requirement already satisfied: numpy==1.23.3 in /usr/local/lib/python3.8/dist-packages (from nkocr) (1.23.3)\n",
            "Requirement already satisfied: tesseract==0.1.3 in /usr/local/lib/python3.8/dist-packages (from nkocr) (0.1.3)\n",
            "Requirement already satisfied: pytesseract==0.3.10 in /usr/local/lib/python3.8/dist-packages (from nkocr) (0.3.10)\n",
            "Requirement already satisfied: requests==2.28.1 in /usr/local/lib/python3.8/dist-packages (from nkocr) (2.28.1)\n",
            "Requirement already satisfied: gdown==4.5.1 in /usr/local/lib/python3.8/dist-packages (from nkocr) (4.5.1)\n",
            "Requirement already satisfied: wheel==0.37.1 in /usr/local/lib/python3.8/dist-packages (from nkocr) (0.37.1)\n",
            "Requirement already satisfied: pillow==9.2.0 in /usr/local/lib/python3.8/dist-packages (from nkocr) (9.2.0)\n",
            "Requirement already satisfied: tqdm in /usr/local/lib/python3.8/dist-packages (from gdown==4.5.1->nkocr) (4.64.1)\n",
            "Requirement already satisfied: filelock in /usr/local/lib/python3.8/dist-packages (from gdown==4.5.1->nkocr) (3.8.2)\n",
            "Requirement already satisfied: beautifulsoup4 in /usr/local/lib/python3.8/dist-packages (from gdown==4.5.1->nkocr) (4.6.3)\n",
            "Requirement already satisfied: six in /usr/local/lib/python3.8/dist-packages (from gdown==4.5.1->nkocr) (1.15.0)\n",
            "Requirement already satisfied: packaging>=21.3 in /usr/local/lib/python3.8/dist-packages (from pytesseract==0.3.10->nkocr) (21.3)\n",
            "Requirement already satisfied: urllib3<1.27,>=1.21.1 in /usr/local/lib/python3.8/dist-packages (from requests==2.28.1->nkocr) (1.24.3)\n",
            "Requirement already satisfied: idna<4,>=2.5 in /usr/local/lib/python3.8/dist-packages (from requests==2.28.1->nkocr) (2.10)\n",
            "Requirement already satisfied: certifi>=2017.4.17 in /usr/local/lib/python3.8/dist-packages (from requests==2.28.1->nkocr) (2022.12.7)\n",
            "Requirement already satisfied: charset-normalizer<3,>=2 in /usr/local/lib/python3.8/dist-packages (from requests==2.28.1->nkocr) (2.1.1)\n",
            "Requirement already satisfied: joblib>=1.0.0 in /usr/local/lib/python3.8/dist-packages (from scikit-learn==1.1.2->nkocr) (1.2.0)\n",
            "Requirement already satisfied: threadpoolctl>=2.0.0 in /usr/local/lib/python3.8/dist-packages (from scikit-learn==1.1.2->nkocr) (3.1.0)\n",
            "Requirement already satisfied: scipy>=1.3.2 in /usr/local/lib/python3.8/dist-packages (from scikit-learn==1.1.2->nkocr) (1.9.3)\n",
            "Requirement already satisfied: editdistpy>=0.1.3 in /usr/local/lib/python3.8/dist-packages (from symspellpy==6.7.6->nkocr) (0.1.3)\n",
            "Requirement already satisfied: pyparsing!=3.0.5,>=2.0.2 in /usr/local/lib/python3.8/dist-packages (from packaging>=21.3->pytesseract==0.3.10->nkocr) (3.0.9)\n",
            "Requirement already satisfied: PySocks!=1.5.7,>=1.5.6 in /usr/local/lib/python3.8/dist-packages (from requests==2.28.1->nkocr) (1.7.1)\n"
          ]
        }
      ],
      "source": [
        "!apt install tesseract-ocr libtesseract-dev\n",
        "!pip install nkocr"
      ]
    },
    {
      "cell_type": "code",
      "source": [
        "from nkocr import OcrTable\n",
        "from os import sys"
      ],
      "metadata": {
        "id": "vZZ2GcuGIK9x"
      },
      "execution_count": 9,
      "outputs": []
    },
    {
      "cell_type": "code",
      "source": [
        "!mkdir -p /usr/local/lib/python3.8/site-packages/nkocr-model\n",
        "sys.path.append('/usr/local/lib/python3.8/site-packages')"
      ],
      "metadata": {
        "id": "eeSf9K2jJA6v"
      },
      "execution_count": 10,
      "outputs": []
    },
    {
      "cell_type": "code",
      "source": [
        "img_url = 'https://github.com/Lucs1590/Nkocr/raw/master/tests/fixtures/nutrition_facts.png'\n",
        "text = OcrTable(img_url)\n",
        "print(text.text)"
      ],
      "metadata": {
        "colab": {
          "base_uri": "https://localhost:8080/"
        },
        "id": "r9zj5ARVIS2C",
        "outputId": "870373c2-e162-4461-f128-c8e94d2613fe"
      },
      "execution_count": 13,
      "outputs": [
        {
          "output_type": "stream",
          "name": "stdout",
          "text": [
            "Facts\n",
            "\f Nurtritic\n",
            "\f Ieontainer\n",
            "\f gq\n",
            "\f ; Servings |\n",
            "\f per\n",
            "\f Garvina <\n",
            "\f 2/3 |\n",
            "\f (55g)\n",
            "\f ize\n",
            "\f cup\n",
            "\f serving\n",
            "\f Amount |\n",
            "\f per.\n",
            "\f (Calorie\n",
            "\f Value*\n",
            "\f %w\n",
            "\f Daily\n",
            "\f iO%\n",
            "\f Total\n",
            "\f Fat!\n",
            "\f 8g\n",
            "\f Saturated\n",
            "\f Fat\n",
            "\f 1g\n",
            "\f Trans Fé\n",
            "\f Og\n",
            "\f Omg\n",
            "\f 0%\n",
            "\f Cholester\n",
            "\f Sodium le\n",
            "\f 160mg\n",
            "\f ohydrate!:\n",
            "\f | Cart\n",
            "\f 37a\n",
            "\f “otal C\n",
            "\f Dietarv Ff\n",
            "\f Eiber 4\n",
            "\f Ag\n",
            "\f Total |\n",
            "\f il Sugars\n",
            "\f 12g\n",
            "\f | Sugars\n",
            "\f Includes 1\n",
            "\f Added\n",
            "\f 20%\n",
            "\f 110g\n",
            "\f Protein\n",
            "\f 3g\n",
            "\f Vitamin [\n",
            "\f 10%\n",
            "\f )2mcg\n",
            "\f Calcium z\n",
            "\f 60ma\n",
            "\f 20%\n",
            "\f A5%\n",
            "\f 1 8ma\n",
            "\f Iron €\n",
            "\f 235mg\n",
            "\f 6%\n",
            "\f Potassium\n",
            "\f Autent in\n",
            "\f The\n",
            "\f , Daily|\n",
            "\f PA\n",
            "\f Value\n",
            "\f lhow.\n",
            "\f much\n",
            "\f V} tells.\n",
            "\f WOU.\n",
            "\f > adn ap\n",
            "\f contributes\n",
            "\f daily\n",
            "\f het.\n",
            "\f \f food |\n",
            "\f )O calories\n",
            "\f ving\n",
            "\f bff\n",
            "\f -generdl nut\n",
            "\f 1 advice.\n",
            "\f dayl\n",
            "\f sed f\n",
            "\f TS t\n",
            "\f | fot\n",
            "\f | nutrition <\n",
            "\f\n"
          ]
        }
      ]
    }
  ]
}